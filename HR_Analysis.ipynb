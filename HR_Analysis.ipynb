{
  "cells": [
    {
      "cell_type": "markdown",
      "metadata": {
        "id": "wbNzEo-LHHtH"
      },
      "source": [
        "# HR Analytics Project\n"
      ]
    },
    {
      "cell_type": "markdown",
      "metadata": {
        "id": "DfHdhaY--o5l"
      },
      "source": [
        "For this project, we will be using Python to analyze a CSV file named \"HR-Employee-Attrition\". It's important to note that I do not know how data was sourced, but it was provided by Meri Skill  to interns for visualization projects.\n",
        "\n",
        "The dataset we will be working with contains information related to employee attrition and other HR metrics.\n"
      ]
    },
    {
      "cell_type": "markdown",
      "metadata": {
        "id": "KgHzTmfaABkX"
      },
      "source": [
        "⚠️ **NOTE that you are required to complete this challenge to be able to get access to my already completed project file. I have added a file to autograde your work, if you pass, you will be given a link to my completed project file. But if you do not pass, the areas that you need to revisit will be listed so that you can tweak them**\n",
        "\n",
        "**Although if you are able to pass the challenge, you won't be needing my own completed project file as you would already have yours.**\n",
        "\n",
        "**But that's the whole idea 😂😂😂😂**\n",
        "\n",
        "### Instructions\n",
        "\n",
        "- **Do not add or remove cells in this notebook. Do not edit or remove the `### START FUNCTION` or `### END FUNCTION` comments. Do not add any code outside of the functions you are required to edit. Doing any of this will lead to a mark of 0%!**\n",
        "\n",
        "- Answer the questions according to the specifications provided.\n",
        "\n",
        "- Use the given cell in each question to see if your function matches the expected outputs."
      ]
    },
    {
      "cell_type": "markdown",
      "metadata": {
        "id": "HjJ3DRDLB-7X"
      },
      "source": [
        "### Here's The Plan\n",
        "\n"
      ]
    },
    {
      "cell_type": "code",
      "execution_count": null,
      "metadata": {
        "id": "ELkmB_8eHkp1"
      },
      "outputs": [],
      "source": [
        "\"\"\"\n",
        "Import necessary libraries for the project.\n",
        "\n",
        "Libraries:\n",
        "- pandas: data manipulation and analysis\n",
        "- numpy: mathematical functions on arrays\n",
        "- matplotlib.pyplot: plotting library for creating static, animated, and interactive visualizations\n",
        "- seaborn: data visualization library based on matplotlib for statistical graphics\n",
        "- plotly.express: high-level interface for creating expressive, interactive graphics\n",
        "\"\"\"\n",
        "import pandas as pd\n",
        "import numpy as np\n",
        "import matplotlib.pyplot as plt\n",
        "import seaborn as sns\n",
        "import plotly.express as px\n"
      ]
    },
    {
      "cell_type": "code",
      "execution_count": null,
      "metadata": {
        "id": "fuo9WafoH3WI"
      },
      "outputs": [],
      "source": [
        "\"\"\"\n",
        "Reads the HR-Employee-Attrition.csv file into a pandas DataFrame.\n",
        "\n",
        "Parameters:\n",
        "- \"HR-Employee-Attrition.csv\": file path of the CSV file to be read\n",
        "\n",
        "Returns:\n",
        "- df: pandas DataFrame containing the data from the CSV file\n",
        "\"\"\"\n",
        "df = pd.read_csv(\"HR-Employee-Attrition.csv\")\n",
        "\n",
        "df\n"
      ]
    },
    {
      "cell_type": "code",
      "execution_count": null,
      "metadata": {
        "id": "L-VvRTeMJNt7"
      },
      "outputs": [],
      "source": [
        "\"\"\"\n",
        "Display the first few rows of the DataFrame to examine the data.\n",
        "\n",
        "Returns:\n",
        "- DataFrame: the first few rows of the DataFrame\n",
        "\"\"\"\n",
        "df.head()\n"
      ]
    },
    {
      "cell_type": "code",
      "execution_count": null,
      "metadata": {
        "id": "1yCLlg2OJWiL"
      },
      "outputs": [],
      "source": [
        "\"\"\"\n",
        "Display the last few rows of the DataFrame to examine the data.\n",
        "\n",
        "Returns:\n",
        "- DataFrame: the last few rows of the DataFrame\n",
        "\"\"\"\n",
        "df.tail()\n"
      ]
    },
    {
      "cell_type": "code",
      "execution_count": null,
      "metadata": {
        "id": "eWb52_s1JaUO"
      },
      "outputs": [],
      "source": [
        "\"\"\"\n",
        "Return the shape of the DataFrame, indicating the number of rows and columns.\n",
        "\n",
        "Returns:\n",
        "- tuple: the number of rows and columns in the DataFrame\n",
        "\"\"\"\n",
        "df.shape\n"
      ]
    },
    {
      "cell_type": "code",
      "execution_count": null,
      "metadata": {
        "id": "3GwfUUKIJeq6"
      },
      "outputs": [],
      "source": [
        "\"\"\"\n",
        "Print a concise summary of the DataFrame, including the index dtype and column dtypes, non-null values, and memory usage.\n",
        "\n",
        "Returns:\n",
        "- None\n",
        "\"\"\"\n",
        "df.info()\n"
      ]
    },
    {
      "cell_type": "code",
      "execution_count": null,
      "metadata": {
        "id": "lsZsLEAtJua1"
      },
      "outputs": [],
      "source": [
        "\"\"\"\n",
        "Count the number of missing values (NaN) in each column of the DataFrame.\n",
        "\n",
        "Returns:\n",
        "- Series: a Series containing the number of missing values in each column\n",
        "\"\"\"\n",
        "df.isnull().sum()\n"
      ]
    },
    {
      "cell_type": "code",
      "execution_count": null,
      "metadata": {
        "id": "ho5Zz1vuJ1R_"
      },
      "outputs": [],
      "source": [
        "\"\"\"\n",
        "Remove duplicate rows from the DataFrame.\n",
        "\n",
        "Returns:\n",
        "- DataFrame: a DataFrame with duplicate rows removed\n",
        "\"\"\"\n",
        "df = df.drop_duplicates()\n",
        "\n",
        "\"\"\"\n",
        "Remove rows with missing values (NaN) from the DataFrame.\n",
        "\n",
        "Returns:\n",
        "- DataFrame: a DataFrame with rows containing NaN values removed\n",
        "\"\"\"\n",
        "df = df.dropna()\n"
      ]
    },
    {
      "cell_type": "code",
      "execution_count": null,
      "metadata": {
        "id": "SHGN3ImLKATe"
      },
      "outputs": [],
      "source": [
        "\"\"\"\n",
        "Returns:\n",
        "- df: pandas DataFrame containing the data from the CSV file\n",
        "\"\"\"\n",
        "df"
      ]
    },
    {
      "cell_type": "code",
      "execution_count": null,
      "metadata": {
        "id": "29HvOLDdKF_q"
      },
      "outputs": [],
      "source": [
        "\"\"\"\n",
        "Calculate the correlation matrix for numeric variables in the DataFrame and plot it as a heatmap.\n",
        "\n",
        "Parameters:\n",
        "- df (DataFrame): The input DataFrame containing numeric variables.\n",
        "\n",
        "Returns:\n",
        "- None\n",
        "\"\"\"\n",
        "# Calculate the correlation matrix for numeric variables in the DataFrame\n",
        "corr_matrix = df.corr()\n",
        "\n",
        "# Create a new figure for the heatmap with a specified size\n",
        "plt.figure(figsize=(20,10))\n",
        "\n",
        "# Plot the correlation matrix as a heatmap, with annotations and using the 'coolwarm' color map\n",
        "sns.heatmap(corr_matrix, annot=True, cmap='coolwarm')\n",
        "\n",
        "# Add a title to the plot\n",
        "plt.title('Correlation Map For Numeric Variables')\n",
        "\n",
        "# Display the plot\n",
        "plt.show()\n"
      ]
    },
    {
      "cell_type": "code",
      "execution_count": null,
      "metadata": {
        "id": "FVAtqGD3LBR3"
      },
      "outputs": [],
      "source": [
        "\"\"\"\n",
        "Create a countplot to show the distribution of 'OverTime' values in the DataFrame.\n",
        "\n",
        "Parameters:\n",
        "- df (DataFrame): The input DataFrame containing the 'OverTime' column.\n",
        "\n",
        "Returns:\n",
        "- None\n",
        "\"\"\"\n",
        "# Create a countplot to show the distribution of 'OverTime' values\n",
        "sns.countplot(data=df, x='OverTime')\n",
        "\n",
        "# Add a title to the plot\n",
        "plt.title(\"Over Time\")\n",
        "\n",
        "# Display the plot\n",
        "plt.show()\n"
      ]
    },
    {
      "cell_type": "code",
      "execution_count": null,
      "metadata": {
        "id": "gUT-T63QLbY2"
      },
      "outputs": [],
      "source": [
        "\"\"\"\n",
        "Create a countplot to show the distribution of 'MaritalStatus' values in the DataFrame.\n",
        "\n",
        "Parameters:\n",
        "- df (DataFrame): The input DataFrame containing the 'MaritalStatus' column.\n",
        "\n",
        "Returns:\n",
        "- None\n",
        "\"\"\"\n",
        "# Create a countplot to show the distribution of 'MaritalStatus' values\n",
        "sns.countplot(data=df, x='MaritalStatus')\n",
        "\n",
        "# Add a title to the plot\n",
        "plt.title('Marital Status')\n",
        "\n",
        "# Display the plot\n",
        "plt.show()\n"
      ]
    },
    {
      "cell_type": "code",
      "execution_count": null,
      "metadata": {
        "id": "i0JpANsjMO82"
      },
      "outputs": [],
      "source": [
        "\"\"\"\n",
        "Create a countplot to show the distribution of 'JobRole' values in the DataFrame.\n",
        "\n",
        "Parameters:\n",
        "- df (DataFrame): The input DataFrame containing the 'JobRole' column.\n",
        "\n",
        "Returns:\n",
        "- None\n",
        "\"\"\"\n",
        "# Create a new figure with a specified size\n",
        "plt.figure(figsize=(10,5))\n",
        "\n",
        "# Create a countplot to show the distribution of 'JobRole' values\n",
        "sns.countplot(data=df, y='JobRole')\n",
        "\n",
        "# Add a title to the plot\n",
        "plt.title(\"Job Title\")\n",
        "\n",
        "# Display the plot\n",
        "plt.show()\n"
      ]
    },
    {
      "cell_type": "code",
      "execution_count": null,
      "metadata": {
        "id": "CUdanW3-Nbey"
      },
      "outputs": [],
      "source": [
        "\"\"\"\n",
        "Create a countplot to show the distribution of 'Gender' values in the DataFrame.\n",
        "\n",
        "Parameters:\n",
        "- df (DataFrame): The input DataFrame containing the 'Gender' column.\n",
        "\n",
        "Returns:\n",
        "- None\n",
        "\"\"\"\n",
        "# Create a countplot to show the distribution of 'Gender' values\n",
        "sns.countplot(data=df, x='Gender')\n",
        "\n",
        "# Add a title to the plot\n",
        "plt.title(\"Gender\")\n",
        "\n",
        "# Display the plot\n",
        "plt.show()\n"
      ]
    },
    {
      "cell_type": "code",
      "execution_count": null,
      "metadata": {
        "id": "vJXepulHNoTK"
      },
      "outputs": [],
      "source": [
        "\"\"\"\n",
        "Create a countplot to show the distribution of 'EducationField' values in the DataFrame.\n",
        "\n",
        "Parameters:\n",
        "- df (DataFrame): The input DataFrame containing the 'EducationField' column.\n",
        "\n",
        "Returns:\n",
        "- None\n",
        "\"\"\"\n",
        "# Create a new figure with a specified size\n",
        "plt.figure(figsize=(10,5))\n",
        "\n",
        "# Create a countplot to show the distribution of 'EducationField' values\n",
        "sns.countplot(data=df, y='EducationField')\n",
        "\n",
        "# Add a title to the plot\n",
        "plt.title(\"Education Field\")\n",
        "\n",
        "# Display the plot\n",
        "plt.show()\n"
      ]
    },
    {
      "cell_type": "code",
      "execution_count": null,
      "metadata": {
        "id": "z19lA7XyNvkw"
      },
      "outputs": [],
      "source": [
        "\"\"\"\n",
        "Create a countplot to show the distribution of 'Department' values in the DataFrame.\n",
        "\n",
        "Parameters:\n",
        "- df (DataFrame): The input DataFrame containing the 'Department' column.\n",
        "\n",
        "Returns:\n",
        "- None\n",
        "\"\"\"\n",
        "# Create a countplot to show the distribution of 'Department' values\n",
        "sns.countplot(data=df, x='Department')\n",
        "\n",
        "# Display the plot\n",
        "plt.show()\n"
      ]
    },
    {
      "cell_type": "code",
      "execution_count": null,
      "metadata": {
        "id": "5GD2Yu9uOFBv"
      },
      "outputs": [],
      "source": [
        "\"\"\"\n",
        "Create a countplot to show the distribution of 'BusinessTravel' values in the DataFrame.\n",
        "\n",
        "Parameters:\n",
        "- df (DataFrame): The input DataFrame containing the 'BusinessTravel' column.\n",
        "\n",
        "Returns:\n",
        "- None\n",
        "\"\"\"\n",
        "# Create a countplot to show the distribution of 'BusinessTravel' values\n",
        "sns.countplot(data=df, x='BusinessTravel')\n",
        "\n",
        "# Add a title to the plot\n",
        "plt.title('Business Travel')\n",
        "\n",
        "# Display the plot\n",
        "plt.show()\n"
      ]
    },
    {
      "cell_type": "code",
      "execution_count": null,
      "metadata": {
        "id": "B9vpCHp9OPCe"
      },
      "outputs": [],
      "source": [
        "\"\"\"\n",
        "Create a boxplot to show the relationship between 'OverTime' and 'Age' in the DataFrame.\n",
        "\n",
        "Parameters:\n",
        "- x (str): The column name for the x-axis ('OverTime').\n",
        "- y (str): The column name for the y-axis ('Age').\n",
        "- data (DataFrame): The input DataFrame containing the 'OverTime' and 'Age' columns.\n",
        "\n",
        "Returns:\n",
        "- None\n",
        "\"\"\"\n",
        "# Create a boxplot to show the relationship between 'OverTime' and 'Age'\n",
        "sns.boxplot(x='OverTime', y='Age', data=df)\n",
        "\n",
        "# Add a title to the plot\n",
        "plt.title('Relationship Between OverTime and Age')\n",
        "\n",
        "# Display the plot\n",
        "plt.show()\n"
      ]
    },
    {
      "cell_type": "code",
      "execution_count": null,
      "metadata": {
        "id": "hQ5ZBytOOvPW"
      },
      "outputs": [],
      "source": [
        "\"\"\"\n",
        "Create a histogram to show the distribution of 'TotalWorkingYears' values in the DataFrame.\n",
        "\n",
        "Parameters:\n",
        "- data (DataFrame): The input DataFrame containing the 'TotalWorkingYears' column.\n",
        "- x (str): The column name for the x-axis ('TotalWorkingYears').\n",
        "- bins (int): The number of bins for the histogram.\n",
        "- kde (bool): Whether to plot a kernel density estimate (KDE) over the histogram.\n",
        "\n",
        "Returns:\n",
        "- None\n",
        "\"\"\"\n",
        "# Create a histogram to show the distribution of 'TotalWorkingYears' values\n",
        "sns.histplot(data=df, x=\"TotalWorkingYears\", bins=10, kde=True)\n",
        "\n",
        "# Add a title to the plot\n",
        "plt.title(\"Total Working Years\")\n",
        "\n",
        "# Display the plot\n",
        "plt.show()\n"
      ]
    },
    {
      "cell_type": "code",
      "execution_count": null,
      "metadata": {
        "id": "6WOrOHKdPHYW"
      },
      "outputs": [],
      "source": [
        "\"\"\"\n",
        "Create a histogram to show the distribution of 'Education' values in the DataFrame.\n",
        "\n",
        "Parameters:\n",
        "- data (DataFrame): The input DataFrame containing the 'Education' column.\n",
        "- x (str): The column name for the x-axis ('Education').\n",
        "- bins (int): The number of bins for the histogram.\n",
        "- kde (bool): Whether to plot a kernel density estimate (KDE) over the histogram.\n",
        "\n",
        "Returns:\n",
        "- None\n",
        "\"\"\"\n",
        "# Create a histogram to show the distribution of 'Education' values\n",
        "sns.histplot(data=df, x=\"Education\", bins=10, kde=True)\n",
        "\n",
        "# Add a title to the plot\n",
        "plt.title(\"Education Level\")\n",
        "\n",
        "# Display the plot\n",
        "plt.show()\n"
      ]
    },
    {
      "cell_type": "code",
      "execution_count": null,
      "metadata": {
        "id": "UdB2GMFePS5o"
      },
      "outputs": [],
      "source": [
        "\"\"\"\n",
        "Create a histogram to show the distribution of 'NumCompaniesWorked' values in the DataFrame.\n",
        "\n",
        "Parameters:\n",
        "- data (DataFrame): The input DataFrame containing the 'NumCompaniesWorked' column.\n",
        "- x (str): The column name for the x-axis ('NumCompaniesWorked').\n",
        "- bins (int): The number of bins for the histogram.\n",
        "- kde (bool): Whether to plot a kernel density estimate (KDE) over the histogram.\n",
        "\n",
        "Returns:\n",
        "- None\n",
        "\"\"\"\n",
        "# Create a histogram to show the distribution of 'NumCompaniesWorked' values\n",
        "sns.histplot(data=df, x=\"NumCompaniesWorked\", bins=10, kde=True)\n",
        "\n",
        "# Add a title to the plot\n",
        "plt.title(\"Number Of Companies Worked\")\n",
        "\n",
        "# Display the plot\n",
        "plt.show()\n"
      ]
    },
    {
      "cell_type": "code",
      "execution_count": null,
      "metadata": {
        "id": "UG8jley7Pcs0"
      },
      "outputs": [],
      "source": [
        "\"\"\"\n",
        "Create a histogram to show the distribution of 'DistanceFromHome' values in the DataFrame.\n",
        "\n",
        "Parameters:\n",
        "- data (DataFrame): The input DataFrame containing the 'DistanceFromHome' column.\n",
        "- x (str): The column name for the x-axis ('DistanceFromHome').\n",
        "- bins (int): The number of bins for the histogram.\n",
        "- kde (bool): Whether to plot a kernel density estimate (KDE) over the histogram.\n",
        "\n",
        "Returns:\n",
        "- None\n",
        "\"\"\"\n",
        "# Create a histogram to show the distribution of 'DistanceFromHome' values\n",
        "sns.histplot(data=df, x=\"DistanceFromHome\", bins=10, kde=True)\n",
        "\n",
        "# Add a title to the plot\n",
        "plt.title(\"Distance From Home\")\n",
        "\n",
        "# Display the plot\n",
        "plt.show()\n"
      ]
    },
    {
      "cell_type": "markdown",
      "metadata": {
        "id": "EHoOVQUVPnso"
      },
      "source": [
        "# Salary Analysis"
      ]
    },
    {
      "cell_type": "code",
      "execution_count": null,
      "metadata": {
        "id": "RiK2ophhPsHX"
      },
      "outputs": [],
      "source": [
        "\"\"\"\n",
        "Create a histogram to show the distribution of 'MonthlyIncome' values in the DataFrame.\n",
        "\n",
        "Parameters:\n",
        "- data (DataFrame): The input DataFrame containing the 'MonthlyIncome' column.\n",
        "- x (str): The column name for the x-axis ('MonthlyIncome').\n",
        "- bins (int): The number of bins for the histogram.\n",
        "- kde (bool): Whether to plot a kernel density estimate (KDE) over the histogram.\n",
        "\n",
        "Returns:\n",
        "- None\n",
        "\"\"\"\n",
        "# Create a histogram to show the distribution of 'MonthlyIncome' values\n",
        "sns.histplot(data=df, x=\"MonthlyIncome\", bins=10, kde=True)\n",
        "\n",
        "# Add a title to the plot\n",
        "plt.title(\"Monthly Income Distribution\")\n",
        "\n",
        "# Display the plot\n",
        "plt.show()\n"
      ]
    },
    {
      "cell_type": "code",
      "execution_count": null,
      "metadata": {
        "id": "m3S146r6Pz0v"
      },
      "outputs": [],
      "source": [
        "\"\"\"\n",
        "Create a boxplot to show the distribution of 'MonthlyIncome' values by 'JobRole' in the DataFrame.\n",
        "\n",
        "Parameters:\n",
        "- data (DataFrame): The input DataFrame containing the 'MonthlyIncome' and 'JobRole' columns.\n",
        "- x (str): The column name for the x-axis ('JobRole').\n",
        "- y (str): The column name for the y-axis ('MonthlyIncome').\n",
        "- figsize (tuple): The size of the figure (width, height) in inches.\n",
        "- title (str): The title of the plot.\n",
        "- rotation (int): The rotation angle of the x-axis labels.\n",
        "\n",
        "Returns:\n",
        "- None\n",
        "\"\"\"\n",
        "# Create a new figure with a specified size\n",
        "plt.figure(figsize=(10,5))\n",
        "\n",
        "# Create a boxplot to show the distribution of 'MonthlyIncome' values by 'JobRole'\n",
        "sns.boxplot(x=\"JobRole\", y=\"MonthlyIncome\", data=df)\n",
        "\n",
        "# Add a title to the plot\n",
        "plt.title(\"Salary by Job Role\")\n",
        "\n",
        "# Rotate the x-axis labels for better readability\n",
        "plt.xticks(rotation=90)\n",
        "\n",
        "# Display the plot\n",
        "plt.show()\n"
      ]
    },
    {
      "cell_type": "markdown",
      "metadata": {
        "id": "MPDGisVJQRWO"
      },
      "source": [
        "# Employee Satisfaction and Performance"
      ]
    },
    {
      "cell_type": "code",
      "execution_count": null,
      "metadata": {
        "id": "mRs9w_K0QU3Y"
      },
      "outputs": [],
      "source": [
        "\"\"\"\n",
        "Create a histogram to show the distribution of 'JobSatisfaction' values in the DataFrame.\n",
        "\n",
        "Parameters:\n",
        "- data (DataFrame): The input DataFrame containing the 'JobSatisfaction' column.\n",
        "- x (str): The column name for the x-axis ('JobSatisfaction').\n",
        "- bins (int): The number of bins for the histogram.\n",
        "- kde (bool): Whether to plot a kernel density estimate (KDE) over the histogram.\n",
        "\n",
        "Returns:\n",
        "- None\n",
        "\"\"\"\n",
        "# Create a histogram to show the distribution of 'JobSatisfaction' values\n",
        "sns.histplot(data=df, x=\"JobSatisfaction\", bins=10, kde=True)\n",
        "\n",
        "# Add a title to the plot\n",
        "plt.title(\"Job Satisfaction Distribution\")\n",
        "\n",
        "# Display the plot\n",
        "plt.show()\n"
      ]
    },
    {
      "cell_type": "code",
      "execution_count": null,
      "metadata": {
        "id": "6Mrs3oA4Qikp"
      },
      "outputs": [],
      "source": [
        "\"\"\"\n",
        "Create a histogram to show the distribution of 'PerformanceRating' values in the DataFrame.\n",
        "\n",
        "Parameters:\n",
        "- data (DataFrame): The input DataFrame containing the 'PerformanceRating' column.\n",
        "- x (str): The column name for the x-axis ('PerformanceRating').\n",
        "- bins (int): The number of bins for the histogram.\n",
        "- kde (bool): Whether to plot a kernel density estimate (KDE) over the histogram.\n",
        "\n",
        "Returns:\n",
        "- None\n",
        "\"\"\"\n",
        "# Create a histogram to show the distribution of 'PerformanceRating' values\n",
        "sns.histplot(data=df, x=\"PerformanceRating\", bins=10, kde=True)\n",
        "\n",
        "# Add a title to the plot\n",
        "plt.title(\"Performance Rating Distribution\")\n",
        "\n",
        "# Display the plot\n",
        "plt.show()\n"
      ]
    },
    {
      "cell_type": "code",
      "execution_count": null,
      "metadata": {
        "id": "7ebu2hnkQwWj"
      },
      "outputs": [],
      "source": [
        "\"\"\"\n",
        "Create a histogram to show the distribution of 'YearsAtCompany' values in the DataFrame.\n",
        "\n",
        "Parameters:\n",
        "- data (DataFrame): The input DataFrame containing the 'YearsAtCompany' column.\n",
        "- x (str): The column name for the x-axis ('YearsAtCompany').\n",
        "- bins (int): The number of bins for the histogram.\n",
        "- kde (bool): Whether to plot a kernel density estimate (KDE) over the histogram.\n",
        "\n",
        "Returns:\n",
        "- None\n",
        "\"\"\"\n",
        "# Create a histogram to show the distribution of 'YearsAtCompany' values\n",
        "sns.histplot(data=df, x=\"YearsAtCompany\", bins=10, kde=True)\n",
        "\n",
        "# Add a title to the plot\n",
        "plt.title(\"Employee Tenure Distribution\")\n",
        "\n",
        "# Display the plot\n",
        "plt.show()\n"
      ]
    },
    {
      "cell_type": "code",
      "execution_count": null,
      "metadata": {
        "id": "mqsMiL42Q6ys"
      },
      "outputs": [],
      "source": [
        "\"\"\"\n",
        "Create a boxplot to show the distribution of 'Age' values by 'Department' in the DataFrame.\n",
        "\n",
        "Parameters:\n",
        "- data (DataFrame): The input DataFrame containing the 'Age' and 'Department' columns.\n",
        "- x (str): The column name for the x-axis ('Department').\n",
        "- y (str): The column name for the y-axis ('Age').\n",
        "- figsize (tuple): The size of the figure (width, height) in inches.\n",
        "- title (str): The title of the plot.\n",
        "\n",
        "Returns:\n",
        "- None\n",
        "\"\"\"\n",
        "# Create a new figure with a specified size\n",
        "plt.figure(figsize=(10,6))\n",
        "\n",
        "# Create a boxplot to show the distribution of 'Age' values by 'Department'\n",
        "sns.boxplot(x='Department', y='Age', data=df)\n",
        "\n",
        "# Add a title to the plot\n",
        "plt.title('Age Distribution by Department')\n",
        "\n",
        "# Display the plot\n",
        "plt.show()\n"
      ]
    },
    {
      "cell_type": "code",
      "execution_count": null,
      "metadata": {
        "id": "hPmYIWZbRL3f"
      },
      "outputs": [],
      "source": [
        "\"\"\"\n",
        "Create a countplot to show the distribution of 'Attrition' values by 'JobRole' in the DataFrame.\n",
        "\n",
        "Parameters:\n",
        "- data (DataFrame): The input DataFrame containing the 'Attrition' and 'JobRole' columns.\n",
        "- x (str): The column name for the x-axis ('JobRole').\n",
        "- hue (str): The column name for grouping by ('Attrition').\n",
        "- figsize (tuple): The size of the figure (width, height) in inches.\n",
        "- rotation (int): The rotation angle of the x-axis labels.\n",
        "- title (str): The title of the plot.\n",
        "\n",
        "Returns:\n",
        "- None\n",
        "\"\"\"\n",
        "# Create a new figure with a specified size\n",
        "plt.figure(figsize=(10,5))\n",
        "\n",
        "# Create a countplot to show the distribution of 'Attrition' values by 'JobRole'\n",
        "sns.countplot(data=df, x='JobRole', hue='Attrition')\n",
        "\n",
        "# Rotate the x-axis labels for better readability\n",
        "plt.xticks(rotation=90)\n",
        "\n",
        "# Add a title to the plot\n",
        "plt.title(\"Attrition by Job Role\")\n",
        "\n",
        "# Display the plot\n",
        "plt.show()\n"
      ]
    }
  ],
  "metadata": {
    "colab": {
      "provenance": []
    },
    "kernelspec": {
      "display_name": "Python 3",
      "name": "python3"
    },
    "language_info": {
      "name": "python"
    }
  },
  "nbformat": 4,
  "nbformat_minor": 0
}
